{
 "cells": [
  {
   "cell_type": "code",
   "execution_count": null,
   "id": "2a25b39e",
   "metadata": {},
   "outputs": [],
   "source": [
    "import os\n",
    "from crewai import Agent, Task, Crew\n",
    "from langchain_anthropic import ChatAnthropic\n",
    "from crewai_tools import SerperDevTool\n",
    "from langchain_community.tools.tavily_search import TavilySearchResults\n",
    "import pandas as pd\n",
    "import matplotlib.pyplot as plt\n"
   ]
  },
  {
   "cell_type": "markdown",
   "id": "a256a1fd",
   "metadata": {},
   "source": [
    "# SETUP API KEYS"
   ]
  },
  {
   "cell_type": "code",
   "execution_count": null,
   "id": "e9d87e1a",
   "metadata": {},
   "outputs": [],
   "source": [
    "os.environ['ANTHROPIC_API_KEY'] = 'your_anthropic_api_key_here'\n",
    "os.environ['TAVILY_API_KEY'] = 'your_tavily_api_key_here'\n"
   ]
  },
  {
   "cell_type": "markdown",
   "id": "71799791",
   "metadata": {},
   "source": [
    "# CONFIGURE CLAUDE 3 LLM"
   ]
  },
  {
   "cell_type": "code",
   "execution_count": null,
   "id": "3b812ec8",
   "metadata": {},
   "outputs": [],
   "source": [
    "llm = ChatAnthropic(\n",
    "    model_name=\"claude-3-sonnet-20240229\",\n",
    "    temperature=0.3,\n",
    "    max_tokens=2000,\n",
    ")"
   ]
  },
  {
   "cell_type": "markdown",
   "id": "cc2eff18",
   "metadata": {},
   "source": [
    "# Web search tool"
   ]
  },
  {
   "cell_type": "code",
   "execution_count": null,
   "id": "e19ab51d",
   "metadata": {},
   "outputs": [],
   "source": [
    "search_tool = TavilySearchResults(k=5)"
   ]
  },
  {
   "cell_type": "markdown",
   "id": "172a00fa",
   "metadata": {},
   "source": [
    "# Define agents with roles and backstories & tasks"
   ]
  },
  {
   "cell_type": "code",
   "execution_count": null,
   "id": "738b9a3e",
   "metadata": {},
   "outputs": [],
   "source": [
    "web_search_agent = Agent(\n",
    "    role='Web Search & Aggregation Agent',\n",
    "    goal='Query job platforms and gather raw AI/ML job posting data from MENA-focused job boards like LinkedIn, Bayt, Wuzzuf, and Glassdoor',\n",
    "    backstory='Experienced web crawler and data miner specialized in extracting real-time job data across diverse platforms',\n",
    "    tools=[SerperDevTool(api_key=api_key)],\n",
    "    llm=llm,\n",
    "    verbose=True\n",
    ")\n",
    "\n",
    "data_extraction_agent = Agent(\n",
    "    role='Job Posting Parsing Agent',\n",
    "    goal='Parse AI/ML job postings to extract job title, required skills, job location, company name, and any available salary information',\n",
    "    backstory='Natural language processing expert skilled in converting unstructured job descriptions into structured records',\n",
    "    tools=[SerperDevTool(api_key=api_key)],\n",
    "    llm=llm\n",
    ")\n",
    "\n",
    "trend_analysis_agent = Agent(\n",
    "    role='AI/ML Job Market Trend Analyst',\n",
    "    goal='Identify high-demand job titles, frequently mentioned skills, location concentrations, and provide demand-based job ranking',\n",
    "    backstory='Labor market analyst with specialization in emerging tech workforce patterns and predictive hiring trends',\n",
    "    tools=[],\n",
    "    llm=llm\n",
    ")\n",
    "\n",
    "report_writer_agent = Agent(\n",
    "    role='AI/ML Labor Insights Report Writer',\n",
    "    goal='Generate a clean and professional report (Markdown or PDF) summarizing AI/ML hiring trends in the MENA region',\n",
    "    backstory='Former technical journalist with expertise in presenting labor market data with clarity and impact',\n",
    "    tools=[],\n",
    "    llm=llm\n",
    ")\n",
    "\n",
    "# Define the tasks\n",
    "\n",
    "web_search_task = Task(\n",
    "    description='Search LinkedIn, Bayt, Wuzzuf, and Glassdoor for AI/ML job postings in MENA countries and aggregate the raw job data',\n",
    "    expected_output='Raw dataset containing job postings with basic metadata (e.g., post title, description, platform, URL)',\n",
    "    agent=web_search_agent,\n",
    "    output_file='raw_ai_ml_job_postings.json'\n",
    ")\n",
    "\n",
    "data_extraction_task = Task(\n",
    "    description='Parse the raw job data to extract structured fields: job title, required skills, company, location, salary (if available)',\n",
    "    expected_output='Structured JSON or CSV dataset with consistent fields across postings',\n",
    "    agent=data_extraction_agent,\n",
    "    output_file='structured_job_data.csv'\n",
    ")\n",
    "\n",
    "trend_analysis_task = Task(\n",
    "    description='Analyze structured job data to find the top 10 most common job titles, most in-demand skills, geographic distribution, and rank jobs by demand',\n",
    "    expected_output='Analytical summary including job title frequency, skill trends, country breakdowns, and a demand ranking table',\n",
    "    agent=trend_analysis_agent\n",
    ")\n",
    "\n",
    "report_writing_task = Task(\n",
    "    description='Generate a well-formatted report (Markdown or PDF) summarizing:\\n1. Top 10 AI/ML roles\\n2. Key required skills\\n3. Country-wise job distribution\\n4. Notable trends or shifts in hiring',\n",
    "    expected_output='Final report titled \"AI/ML Job Trends in MENA - Q2 2025\" with charts and structured sections',\n",
    "    agent=report_writer_agent\n",
    ")\n"
   ]
  },
  {
   "cell_type": "markdown",
   "id": "a7d1feab",
   "metadata": {},
   "source": [
    "# Configure crew"
   ]
  },
  {
   "cell_type": "code",
   "execution_count": null,
   "id": "9896c8e0",
   "metadata": {},
   "outputs": [],
   "source": [
    "crew = Crew(\n",
    "    agents=[web_search_agent, data_extraction_agent, trend_analysis_agent, report_writer_agent],\n",
    "    tasks=[web_search_task, data_extraction_task, trend_analysis_task, report_writing_task],\n",
    "    verbose=2,\n",
    "    memory=True\n",
    ")\n",
    "\n",
    "results = crew.kickoff()"
   ]
  },
  {
   "cell_type": "markdown",
   "id": "ed8c9b68",
   "metadata": {},
   "source": [
    "# Saving Report"
   ]
  },
  {
   "cell_type": "code",
   "execution_count": null,
   "id": "dbc64c5f",
   "metadata": {},
   "outputs": [],
   "source": [
    "print(\"\\n==== KEY FINDINGS ====\")\n",
    "print(results[:1500])  # Preview first 1500 chars\n",
    "\n",
    "# Save full report\n",
    "with open(\"MENA_AI_Talent_Report.md\", \"w\") as f:\n",
    "    f.write(results)"
   ]
  },
  {
   "cell_type": "markdown",
   "id": "308ae2af",
   "metadata": {},
   "source": [
    "# visualization"
   ]
  },
  {
   "cell_type": "code",
   "execution_count": null,
   "id": "b22fbaf0",
   "metadata": {},
   "outputs": [],
   "source": [
    "def create_visualizations():\n",
    "    # Sample data (replace with actual analysis results)\n",
    "    data = {\n",
    "        'Country': ['UAE', 'Saudi Arabia', 'Egypt', 'Qatar'],\n",
    "        'ML_Jobs': [120, 85, 65, 45],\n",
    "        'Avg_Salary($)': [95000, 82000, 45000, 88000]\n",
    "    }\n",
    "    df = pd.DataFrame(data)\n",
    "    \n",
    "    plt.figure(figsize=(12, 6))\n",
    "    plt.subplot(1, 2, 1)\n",
    "    plt.bar(df['Country'], df['ML_Jobs'], color='royalblue')\n",
    "    plt.title('AI/ML Job Openings by Country')\n",
    "    \n",
    "    plt.subplot(1, 2, 2)\n",
    "    plt.plot(df['Country'], df['Avg_Salary($)'], marker='o', color='green', linewidth=3)\n",
    "    plt.title('Average Salaries (USD)')\n",
    "    plt.tight_layout()\n",
    "    plt.savefig('mena_ai_jobs.png', dpi=300)\n",
    "\n",
    "create_visualizations()\n",
    "\n",
    "print(\"\\nReport and visualizations generated successfully!\")"
   ]
  }
 ],
 "metadata": {
  "language_info": {
   "name": "python"
  }
 },
 "nbformat": 4,
 "nbformat_minor": 5
}
